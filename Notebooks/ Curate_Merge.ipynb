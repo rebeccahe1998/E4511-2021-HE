{
  "nbformat": 4,
  "nbformat_minor": 0,
  "metadata": {
    "colab": {
      "name": "Curate_Merge.ipynb",
      "provenance": [],
      "collapsed_sections": [],
      "machine_shape": "hm",
      "authorship_tag": "ABX9TyP/tblKEMlK8JJeXkIzw9pX",
      "include_colab_link": true
    },
    "kernelspec": {
      "name": "python3",
      "display_name": "Python 3"
    },
    "language_info": {
      "name": "python"
    },
    "accelerator": "GPU"
  },
  "cells": [
    {
      "cell_type": "markdown",
      "metadata": {
        "id": "view-in-github",
        "colab_type": "text"
      },
      "source": [
        "<a href=\"https://colab.research.google.com/github/rebeccahe1998/E4511-2021-HE/blob/main/Curate_Merge.ipynb\" target=\"_parent\"><img src=\"https://colab.research.google.com/assets/colab-badge.svg\" alt=\"Open In Colab\"/></a>"
      ]
    },
    {
      "cell_type": "markdown",
      "metadata": {
        "id": "T0Fw1odfnxdx"
      },
      "source": [
        "# Install\n",
        "\n",
        "---\n",
        "\n",
        "\n"
      ]
    },
    {
      "cell_type": "code",
      "metadata": {
        "id": "7I3ZJOk-kXPp"
      },
      "source": [
        "%tensorflow_version 1.x\n",
        "\n",
        "# get the Anaconda file \n",
        "! wget -c https://repo.anaconda.com/archive/Anaconda3-2019.10-Linux-x86_64.sh\n",
        "! chmod +x Anaconda3-2019.10-Linux-x86_64.sh\n",
        "! bash ./Anaconda3-2019.10-Linux-x86_64.sh -b -f -p /usr/local\n",
        "\n",
        "! time conda install -y -c deepchem -c rdkit -c conda-forge -c omnia deepchem-gpu=2.3.0\n",
        "\n",
        "import sys\n",
        "sys.path.append('/usr/local/lib/python3.7/site-packages/')\n",
        "import deepchem as dc\n",
        "\n",
        "# install mordred, bravado and molvs\n",
        "! time conda install -c conda-forge -y mordred bravado molvs\n",
        "\n",
        "# get the Install AMPL_GPU_test.sh\n",
        "!wget https://raw.githubusercontent.com/ravichas/AMPL-Tutorial/master/config/install_AMPL_GPU_test.sh\n",
        "\n",
        "# run the script to install AMPL\n",
        "! chmod u+x install_AMPL_GPU_test.sh\n",
        "! ./install_AMPL_GPU_test.sh"
      ],
      "execution_count": null,
      "outputs": []
    },
    {
      "cell_type": "code",
      "metadata": {
        "id": "PzIhaTmjklup"
      },
      "source": [
        "# FutureWarnings and DeprecationWarnings are present from some of the AMPL \n",
        "# dependency modules.\n",
        "import warnings\n",
        "warnings.filterwarnings('ignore')\n",
        "\n",
        "import json\n",
        "# import numpy as np\n",
        "# import pandas as pd\n",
        "import os\n",
        "import requests"
      ],
      "execution_count": 2,
      "outputs": []
    },
    {
      "cell_type": "code",
      "metadata": {
        "id": "5xUPRwwJknT6"
      },
      "source": [
        "# Import AMPL libraries\n",
        "# \n",
        "import atomsci.ddm.utils.data_curation_functions as dcf\n",
        "import atomsci.ddm.utils.curate_data as curate_data\n",
        "import atomsci.ddm.pipeline.diversity_plots as dp\n",
        "import atomsci.ddm.pipeline.chem_diversity as cd\n",
        "# Additional python libraries\n",
        "import pandas as pd\n",
        "import numpy as np\n",
        "import getpass,os"
      ],
      "execution_count": 3,
      "outputs": []
    },
    {
      "cell_type": "code",
      "metadata": {
        "id": "CBDRAkvJkpcK"
      },
      "source": [
        "from matplotlib_venn import venn2\n",
        "import getpass, os\n",
        "import pandas as pd\n",
        "import matplotlib.pyplot as plt\n",
        "import atomsci.ddm.utils.curate_data as curate_data\n",
        "import atomsci.ddm.pipeline.chem_diversity as cd"
      ],
      "execution_count": 4,
      "outputs": []
    },
    {
      "cell_type": "markdown",
      "metadata": {
        "id": "HA9pOGTjpZzk"
      },
      "source": [
        "# Curate\n",
        "\n",
        "---\n",
        "\n"
      ]
    },
    {
      "cell_type": "code",
      "metadata": {
        "colab": {
          "base_uri": "https://localhost:8080/"
        },
        "id": "NNZdvQNopX-i",
        "outputId": "977a2e4c-3116-4a45-9aeb-b66abe111061"
      },
      "source": [
        "from google.colab import drive\n",
        "drive.mount('/content/drive')\n"
      ],
      "execution_count": 5,
      "outputs": [
        {
          "output_type": "stream",
          "text": [
            "Mounted at /content/drive\n"
          ],
          "name": "stdout"
        }
      ]
    },
    {
      "cell_type": "code",
      "metadata": {
        "id": "1T2Di7B_qGqr"
      },
      "source": [
        "path = '/content/drive/MyDrive/'"
      ],
      "execution_count": 8,
      "outputs": []
    },
    {
      "cell_type": "code",
      "metadata": {
        "id": "ctO0CcfDp9KN"
      },
      "source": [
        "chembl = pd.read_csv(path+'CHEMBL_curated.csv', header=0, index_col=0)\n",
        "dtc = pd.read_csv(path+'DTC_Curated.csv',header=0, index_col=0)\n"
      ],
      "execution_count": 41,
      "outputs": []
    },
    {
      "cell_type": "code",
      "metadata": {
        "colab": {
          "base_uri": "https://localhost:8080/"
        },
        "id": "erAnSCXzp9SS",
        "outputId": "9659c131-d6fc-4a1d-994b-21c3c5a098e7"
      },
      "source": [
        "! wget https://raw.githubusercontent.com/rebeccahe1998/E4511-2021-HE/main/EXCAPE_SLC6A3_SMILES_DROPNA"
      ],
      "execution_count": 11,
      "outputs": [
        {
          "output_type": "stream",
          "text": [
            "--2021-03-25 13:55:43--  https://raw.githubusercontent.com/rebeccahe1998/E4511-2021-HE/main/EXCAPE_SLC6A3_SMILES_DROPNA\n",
            "Resolving raw.githubusercontent.com (raw.githubusercontent.com)... 185.199.108.133, 185.199.109.133, 185.199.110.133, ...\n",
            "Connecting to raw.githubusercontent.com (raw.githubusercontent.com)|185.199.108.133|:443... connected.\n",
            "HTTP request sent, awaiting response... 200 OK\n",
            "Length: 1010196 (987K) [text/plain]\n",
            "Saving to: ‘EXCAPE_SLC6A3_SMILES_DROPNA’\n",
            "\n",
            "EXCAPE_SLC6A3_SMILE 100%[===================>] 986.52K  --.-KB/s    in 0.07s   \n",
            "\n",
            "2021-03-25 13:55:43 (14.7 MB/s) - ‘EXCAPE_SLC6A3_SMILES_DROPNA’ saved [1010196/1010196]\n",
            "\n"
          ],
          "name": "stdout"
        }
      ]
    },
    {
      "cell_type": "code",
      "metadata": {
        "id": "7DNAwAivp9YI"
      },
      "source": [
        "excape = pd.read_csv('EXCAPE_SLC6A3_SMILES_DROPNA' ,header = 0, index_col=0)\n",
        "\n",
        "excape.rename( columns={\"pXC50\" : \"PXC50\"}, inplace = True)\n"
      ],
      "execution_count": 39,
      "outputs": []
    },
    {
      "cell_type": "code",
      "metadata": {
        "id": "Lva-AHvzAZxf"
      },
      "source": [
        "excape.rename( columns={\"Original_Entry_ID\" : \"compound_id\",\"Activity_Flag\" : \"active\"}, inplace = True)"
      ],
      "execution_count": 50,
      "outputs": []
    },
    {
      "cell_type": "code",
      "metadata": {
        "id": "GnvpC_ItAJxr"
      },
      "source": [
        "excape_ = excape.loc[:,['compound_id','base_rdkit_smiles','PXC50','active']]"
      ],
      "execution_count": 55,
      "outputs": []
    },
    {
      "cell_type": "code",
      "metadata": {
        "id": "RlYQoKsWE_Gx"
      },
      "source": [
        "excape_.active = excape_.active.map({'A':1, 'N':0})\n"
      ],
      "execution_count": 69,
      "outputs": []
    },
    {
      "cell_type": "code",
      "metadata": {
        "colab": {
          "base_uri": "https://localhost:8080/",
          "height": 402
        },
        "id": "pOWgXXYwG6Sg",
        "outputId": "f0c91db0-28d1-4077-c029-29555dad4599"
      },
      "source": [
        "excape_"
      ],
      "execution_count": 70,
      "outputs": [
        {
          "output_type": "execute_result",
          "data": {
            "text/html": [
              "<div>\n",
              "<style scoped>\n",
              "    .dataframe tbody tr th:only-of-type {\n",
              "        vertical-align: middle;\n",
              "    }\n",
              "\n",
              "    .dataframe tbody tr th {\n",
              "        vertical-align: top;\n",
              "    }\n",
              "\n",
              "    .dataframe thead th {\n",
              "        text-align: right;\n",
              "    }\n",
              "</style>\n",
              "<table border=\"1\" class=\"dataframe\">\n",
              "  <thead>\n",
              "    <tr style=\"text-align: right;\">\n",
              "      <th></th>\n",
              "      <th>compound_id</th>\n",
              "      <th>base_rdkit_smiles</th>\n",
              "      <th>PXC50</th>\n",
              "      <th>active</th>\n",
              "    </tr>\n",
              "  </thead>\n",
              "  <tbody>\n",
              "    <tr>\n",
              "      <th>230</th>\n",
              "      <td>CHEMBL3298875</td>\n",
              "      <td>CCC(NC)C(=O)c1ccccc1</td>\n",
              "      <td>6.39000</td>\n",
              "      <td>1</td>\n",
              "    </tr>\n",
              "    <tr>\n",
              "      <th>236</th>\n",
              "      <td>CHEMBL1289</td>\n",
              "      <td>Clc1cc(Cl)c(OCC#CI)cc1Cl</td>\n",
              "      <td>5.81000</td>\n",
              "      <td>1</td>\n",
              "    </tr>\n",
              "    <tr>\n",
              "      <th>369</th>\n",
              "      <td>CHEMBL2030635</td>\n",
              "      <td>c1ccc(CCN2CCCC2)cc1</td>\n",
              "      <td>5.56000</td>\n",
              "      <td>1</td>\n",
              "    </tr>\n",
              "    <tr>\n",
              "      <th>377</th>\n",
              "      <td>11571886</td>\n",
              "      <td>NCC1CCC(c2ccccc2)O1</td>\n",
              "      <td>6.83268</td>\n",
              "      <td>1</td>\n",
              "    </tr>\n",
              "    <tr>\n",
              "      <th>416</th>\n",
              "      <td>458519</td>\n",
              "      <td>CCNC(C)C(=O)c1ccccc1</td>\n",
              "      <td>5.99396</td>\n",
              "      <td>1</td>\n",
              "    </tr>\n",
              "    <tr>\n",
              "      <th>...</th>\n",
              "      <td>...</td>\n",
              "      <td>...</td>\n",
              "      <td>...</td>\n",
              "      <td>...</td>\n",
              "    </tr>\n",
              "    <tr>\n",
              "      <th>111808</th>\n",
              "      <td>CHEMBL3143431</td>\n",
              "      <td>CC[C@H](C)[C@H](NC(=O)[C@@H](NC[C@H](CC(C)C)NC...</td>\n",
              "      <td>8.10000</td>\n",
              "      <td>1</td>\n",
              "    </tr>\n",
              "    <tr>\n",
              "      <th>111810</th>\n",
              "      <td>CHEMBL411570</td>\n",
              "      <td>C[C@@H](O)[C@H](NC(=O)[C@H](Cc1ccc(O)cc1)NC(=O...</td>\n",
              "      <td>3.74000</td>\n",
              "      <td>0</td>\n",
              "    </tr>\n",
              "    <tr>\n",
              "      <th>111811</th>\n",
              "      <td>CHEMBL1200633</td>\n",
              "      <td>CC[C@H](C)[C@H]1O[C@]2(CC[C@@H]1C)C[C@@H]1C[C@...</td>\n",
              "      <td>5.45000</td>\n",
              "      <td>1</td>\n",
              "    </tr>\n",
              "    <tr>\n",
              "      <th>111812</th>\n",
              "      <td>CHEMBL383931</td>\n",
              "      <td>C[C@H](NC(=O)[C@@H](N)Cc1ccc(-c2ccc(C[C@H](N)C...</td>\n",
              "      <td>3.76000</td>\n",
              "      <td>0</td>\n",
              "    </tr>\n",
              "    <tr>\n",
              "      <th>111813</th>\n",
              "      <td>CHEMBL374492</td>\n",
              "      <td>CC(c1ccc(-c2ccc(C[C@H](N)C(=O)O)cc2)cc1)[C@H](...</td>\n",
              "      <td>6.60000</td>\n",
              "      <td>1</td>\n",
              "    </tr>\n",
              "  </tbody>\n",
              "</table>\n",
              "<p>5292 rows × 4 columns</p>\n",
              "</div>"
            ],
            "text/plain": [
              "          compound_id  ... active\n",
              "230     CHEMBL3298875  ...      1\n",
              "236        CHEMBL1289  ...      1\n",
              "369     CHEMBL2030635  ...      1\n",
              "377          11571886  ...      1\n",
              "416            458519  ...      1\n",
              "...               ...  ...    ...\n",
              "111808  CHEMBL3143431  ...      1\n",
              "111810   CHEMBL411570  ...      0\n",
              "111811  CHEMBL1200633  ...      1\n",
              "111812   CHEMBL383931  ...      0\n",
              "111813   CHEMBL374492  ...      1\n",
              "\n",
              "[5292 rows x 4 columns]"
            ]
          },
          "metadata": {
            "tags": []
          },
          "execution_count": 70
        }
      ]
    },
    {
      "cell_type": "code",
      "metadata": {
        "id": "dED2JzWqG2s4"
      },
      "source": [
        ""
      ],
      "execution_count": null,
      "outputs": []
    },
    {
      "cell_type": "code",
      "metadata": {
        "colab": {
          "base_uri": "https://localhost:8080/",
          "height": 402
        },
        "id": "3AZUhe6DrRnP",
        "outputId": "e9d9b5e6-f100-432e-ae96-9173d01fe49a"
      },
      "source": [
        "chembl.drop('relation',axis=1,inplace=True)\n",
        "chembl"
      ],
      "execution_count": 59,
      "outputs": [
        {
          "output_type": "execute_result",
          "data": {
            "text/html": [
              "<div>\n",
              "<style scoped>\n",
              "    .dataframe tbody tr th:only-of-type {\n",
              "        vertical-align: middle;\n",
              "    }\n",
              "\n",
              "    .dataframe tbody tr th {\n",
              "        vertical-align: top;\n",
              "    }\n",
              "\n",
              "    .dataframe thead th {\n",
              "        text-align: right;\n",
              "    }\n",
              "</style>\n",
              "<table border=\"1\" class=\"dataframe\">\n",
              "  <thead>\n",
              "    <tr style=\"text-align: right;\">\n",
              "      <th></th>\n",
              "      <th>compound_id</th>\n",
              "      <th>base_rdkit_smiles</th>\n",
              "      <th>PXC50</th>\n",
              "      <th>active</th>\n",
              "    </tr>\n",
              "  </thead>\n",
              "  <tbody>\n",
              "    <tr>\n",
              "      <th>0</th>\n",
              "      <td>CHEMBL290510</td>\n",
              "      <td>COC(=O)[C@H](c1ccccc1)[C@@H]1CCCCO1</td>\n",
              "      <td>4.89</td>\n",
              "      <td>0</td>\n",
              "    </tr>\n",
              "    <tr>\n",
              "      <th>1</th>\n",
              "      <td>CHEMBL4068156</td>\n",
              "      <td>[O-][S+](Cc1cccs1)C(c1ccc(F)cc1)c1ccc(F)cc1</td>\n",
              "      <td>5.40</td>\n",
              "      <td>0</td>\n",
              "    </tr>\n",
              "    <tr>\n",
              "      <th>2</th>\n",
              "      <td>CHEMBL2407331</td>\n",
              "      <td>COCC(c1ccc(F)c(Cl)c1)C1CCNCC1</td>\n",
              "      <td>6.24</td>\n",
              "      <td>1</td>\n",
              "    </tr>\n",
              "    <tr>\n",
              "      <th>3</th>\n",
              "      <td>CHEMBL511288</td>\n",
              "      <td>Cc1ccc(-c2c(C)noc2[C@@H]2C3CCC(C[C@@H]2c2ccc(C...</td>\n",
              "      <td>6.76</td>\n",
              "      <td>1</td>\n",
              "    </tr>\n",
              "    <tr>\n",
              "      <th>4</th>\n",
              "      <td>CHEMBL3673174</td>\n",
              "      <td>Fc1ccc(C23CCN(CC2)Cc2cc(-c4ccc(C(F)(F)F)nn4)cc...</td>\n",
              "      <td>6.92</td>\n",
              "      <td>1</td>\n",
              "    </tr>\n",
              "    <tr>\n",
              "      <th>...</th>\n",
              "      <td>...</td>\n",
              "      <td>...</td>\n",
              "      <td>...</td>\n",
              "      <td>...</td>\n",
              "    </tr>\n",
              "    <tr>\n",
              "      <th>1626</th>\n",
              "      <td>CHEMBL1643664</td>\n",
              "      <td>Cc1cc([C@@H]2C3CCC(C[C@@H]2c2ccc(Cl)cc2)S3)on1</td>\n",
              "      <td>8.14</td>\n",
              "      <td>1</td>\n",
              "    </tr>\n",
              "    <tr>\n",
              "      <th>1627</th>\n",
              "      <td>CHEMBL4224951</td>\n",
              "      <td>CCOC[C@H]1[C@@H](c2ccc(Cl)c(Cl)c2)C[C@@H]2CC[C...</td>\n",
              "      <td>8.10</td>\n",
              "      <td>1</td>\n",
              "    </tr>\n",
              "    <tr>\n",
              "      <th>1628</th>\n",
              "      <td>CHEMBL3331484</td>\n",
              "      <td>Clc1ccc(CN(C2CC2)C2CNC2)cc1Cl</td>\n",
              "      <td>6.58</td>\n",
              "      <td>1</td>\n",
              "    </tr>\n",
              "    <tr>\n",
              "      <th>1629</th>\n",
              "      <td>CHEMBL3673146</td>\n",
              "      <td>Clc1ccc(C23CCN(CC2)Cc2cc(-c4cnc5ccccc5n4)ccc23...</td>\n",
              "      <td>6.45</td>\n",
              "      <td>1</td>\n",
              "    </tr>\n",
              "    <tr>\n",
              "      <th>1630</th>\n",
              "      <td>CHEMBL452928</td>\n",
              "      <td>NCC1CCC(CCc2c(F)c(F)c(F)c(F)c2F)O1</td>\n",
              "      <td>5.34</td>\n",
              "      <td>0</td>\n",
              "    </tr>\n",
              "  </tbody>\n",
              "</table>\n",
              "<p>1631 rows × 4 columns</p>\n",
              "</div>"
            ],
            "text/plain": [
              "        compound_id  ... active\n",
              "0      CHEMBL290510  ...      0\n",
              "1     CHEMBL4068156  ...      0\n",
              "2     CHEMBL2407331  ...      1\n",
              "3      CHEMBL511288  ...      1\n",
              "4     CHEMBL3673174  ...      1\n",
              "...             ...  ...    ...\n",
              "1626  CHEMBL1643664  ...      1\n",
              "1627  CHEMBL4224951  ...      1\n",
              "1628  CHEMBL3331484  ...      1\n",
              "1629  CHEMBL3673146  ...      1\n",
              "1630   CHEMBL452928  ...      0\n",
              "\n",
              "[1631 rows x 4 columns]"
            ]
          },
          "metadata": {
            "tags": []
          },
          "execution_count": 59
        }
      ]
    },
    {
      "cell_type": "code",
      "metadata": {
        "id": "N_03D3e8rk4q"
      },
      "source": [
        "dtc.drop('relation',axis=1,inplace=True)"
      ],
      "execution_count": 60,
      "outputs": []
    },
    {
      "cell_type": "code",
      "metadata": {
        "colab": {
          "base_uri": "https://localhost:8080/",
          "height": 402
        },
        "id": "e_5p78GhHCz5",
        "outputId": "5095be9a-04e0-4c3e-eb12-c5b469eac7f0"
      },
      "source": [
        "dtc.rename( columns={\"pXC50\" : \"PXC50\"}, inplace = True)\n",
        "dtc"
      ],
      "execution_count": 74,
      "outputs": [
        {
          "output_type": "execute_result",
          "data": {
            "text/html": [
              "<div>\n",
              "<style scoped>\n",
              "    .dataframe tbody tr th:only-of-type {\n",
              "        vertical-align: middle;\n",
              "    }\n",
              "\n",
              "    .dataframe tbody tr th {\n",
              "        vertical-align: top;\n",
              "    }\n",
              "\n",
              "    .dataframe thead th {\n",
              "        text-align: right;\n",
              "    }\n",
              "</style>\n",
              "<table border=\"1\" class=\"dataframe\">\n",
              "  <thead>\n",
              "    <tr style=\"text-align: right;\">\n",
              "      <th></th>\n",
              "      <th>compound_id</th>\n",
              "      <th>base_rdkit_smiles</th>\n",
              "      <th>PXC50</th>\n",
              "      <th>active</th>\n",
              "    </tr>\n",
              "  </thead>\n",
              "  <tbody>\n",
              "    <tr>\n",
              "      <th>0</th>\n",
              "      <td>CHEMBL599233</td>\n",
              "      <td>CC(C(=O)c1cccc([N+](=O)[O-])c1)N1CCCCC1</td>\n",
              "      <td>5.000000</td>\n",
              "      <td>0</td>\n",
              "    </tr>\n",
              "    <tr>\n",
              "      <th>1</th>\n",
              "      <td>CHEMBL2047573</td>\n",
              "      <td>OC(CCN1CCC(O)(Cc2ccccc2)CC1)c1ccc(Cl)c(Cl)c1</td>\n",
              "      <td>6.248721</td>\n",
              "      <td>1</td>\n",
              "    </tr>\n",
              "    <tr>\n",
              "      <th>2</th>\n",
              "      <td>CHEMBL1083410</td>\n",
              "      <td>CNC[C@H](O)CCN1c2ccccc2N(c2ccccc2F)S1(=O)=O</td>\n",
              "      <td>5.618163</td>\n",
              "      <td>0</td>\n",
              "    </tr>\n",
              "    <tr>\n",
              "      <th>3</th>\n",
              "      <td>CHEMBL3673162</td>\n",
              "      <td>COc1ccc(-c2ccc3c(c2)CN2CCC3(c3ccc(Cl)c(Cl)c3)C...</td>\n",
              "      <td>8.229148</td>\n",
              "      <td>1</td>\n",
              "    </tr>\n",
              "    <tr>\n",
              "      <th>4</th>\n",
              "      <td>CHEMBL2096860</td>\n",
              "      <td>COC(=O)[C@H]1C2CCC(C[C@@H]1c1ccc(I)cc1)N2C</td>\n",
              "      <td>7.643974</td>\n",
              "      <td>1</td>\n",
              "    </tr>\n",
              "    <tr>\n",
              "      <th>...</th>\n",
              "      <td>...</td>\n",
              "      <td>...</td>\n",
              "      <td>...</td>\n",
              "      <td>...</td>\n",
              "    </tr>\n",
              "    <tr>\n",
              "      <th>1401</th>\n",
              "      <td>CHEMBL566001</td>\n",
              "      <td>CC(NC(C)(C)C)C(=O)c1ccc(Br)cc1</td>\n",
              "      <td>6.024756</td>\n",
              "      <td>1</td>\n",
              "    </tr>\n",
              "    <tr>\n",
              "      <th>1402</th>\n",
              "      <td>CHEMBL247538</td>\n",
              "      <td>COc1cccc(CN(C2CCOCC2)[C@H]2CCNC2)c1C</td>\n",
              "      <td>6.014125</td>\n",
              "      <td>1</td>\n",
              "    </tr>\n",
              "    <tr>\n",
              "      <th>1403</th>\n",
              "      <td>CHEMBL2171415</td>\n",
              "      <td>CCCOC(c1ccc(Cl)c(Cl)c1)C1CNC1</td>\n",
              "      <td>7.494850</td>\n",
              "      <td>1</td>\n",
              "    </tr>\n",
              "    <tr>\n",
              "      <th>1404</th>\n",
              "      <td>CHEMBL119385</td>\n",
              "      <td>O=c1ncn2nc(Sc3ccc(F)cc3F)ccc2c1-c1c(Cl)cccc1Cl</td>\n",
              "      <td>5.091622</td>\n",
              "      <td>0</td>\n",
              "    </tr>\n",
              "    <tr>\n",
              "      <th>1405</th>\n",
              "      <td>CHEMBL1643519</td>\n",
              "      <td>CN(C)[C@H]1Cc2ccccc2N(c2ccc(Cl)c(Cl)c2)C1</td>\n",
              "      <td>6.510042</td>\n",
              "      <td>1</td>\n",
              "    </tr>\n",
              "  </tbody>\n",
              "</table>\n",
              "<p>1406 rows × 4 columns</p>\n",
              "</div>"
            ],
            "text/plain": [
              "        compound_id  ... active\n",
              "0      CHEMBL599233  ...      0\n",
              "1     CHEMBL2047573  ...      1\n",
              "2     CHEMBL1083410  ...      0\n",
              "3     CHEMBL3673162  ...      1\n",
              "4     CHEMBL2096860  ...      1\n",
              "...             ...  ...    ...\n",
              "1401   CHEMBL566001  ...      1\n",
              "1402   CHEMBL247538  ...      1\n",
              "1403  CHEMBL2171415  ...      1\n",
              "1404   CHEMBL119385  ...      0\n",
              "1405  CHEMBL1643519  ...      1\n",
              "\n",
              "[1406 rows x 4 columns]"
            ]
          },
          "metadata": {
            "tags": []
          },
          "execution_count": 74
        }
      ]
    },
    {
      "cell_type": "code",
      "metadata": {
        "id": "iNGa7oywrOOz"
      },
      "source": [
        "dtc_v =dtc['base_rdkit_smiles'].tolist()\n",
        "chembl_v =chembl['base_rdkit_smiles'].tolist()\n",
        "excape_v = excape_['base_rdkit_smiles'].tolist()\n",
        "from matplotlib_venn import venn3"
      ],
      "execution_count": 75,
      "outputs": []
    },
    {
      "cell_type": "code",
      "metadata": {
        "colab": {
          "base_uri": "https://localhost:8080/",
          "height": 286
        },
        "id": "Atm6tT_7rBdl",
        "outputId": "ed7a485e-6ff1-4203-fad8-667a2f557c24"
      },
      "source": [
        "dlst = [set(dtc_v),set(chembl_v), set(excape_v)]\n",
        "\n",
        "fig = plt.figure()\n",
        "venn3(dlst, ('DTC', 'Chembl','Excape'))\n",
        "plt.title('SLC6A3')"
      ],
      "execution_count": 76,
      "outputs": [
        {
          "output_type": "execute_result",
          "data": {
            "text/plain": [
              "Text(0.5, 1.0, 'SLC6A3')"
            ]
          },
          "metadata": {
            "tags": []
          },
          "execution_count": 76
        },
        {
          "output_type": "display_data",
          "data": {
            "image/png": "[encoded data removed]",
            "text/plain": [
              "<Figure size 432x288 with 1 Axes>"
            ]
          },
          "metadata": {
            "tags": []
          }
        }
      ]
    },
    {
      "cell_type": "code",
      "metadata": {
        "colab": {
          "base_uri": "https://localhost:8080/",
          "height": 402
        },
        "id": "eGSxRzLoGZSX",
        "outputId": "deb0063c-6b99-4eb3-b41d-61a8222d34c8"
      },
      "source": [
        "comb_df =  pd.concat([dtc,chembl,excape_])\n",
        "comb_df"
      ],
      "execution_count": 77,
      "outputs": [
        {
          "output_type": "execute_result",
          "data": {
            "text/html": [
              "<div>\n",
              "<style scoped>\n",
              "    .dataframe tbody tr th:only-of-type {\n",
              "        vertical-align: middle;\n",
              "    }\n",
              "\n",
              "    .dataframe tbody tr th {\n",
              "        vertical-align: top;\n",
              "    }\n",
              "\n",
              "    .dataframe thead th {\n",
              "        text-align: right;\n",
              "    }\n",
              "</style>\n",
              "<table border=\"1\" class=\"dataframe\">\n",
              "  <thead>\n",
              "    <tr style=\"text-align: right;\">\n",
              "      <th></th>\n",
              "      <th>compound_id</th>\n",
              "      <th>base_rdkit_smiles</th>\n",
              "      <th>PXC50</th>\n",
              "      <th>active</th>\n",
              "    </tr>\n",
              "  </thead>\n",
              "  <tbody>\n",
              "    <tr>\n",
              "      <th>0</th>\n",
              "      <td>CHEMBL599233</td>\n",
              "      <td>CC(C(=O)c1cccc([N+](=O)[O-])c1)N1CCCCC1</td>\n",
              "      <td>5.000000</td>\n",
              "      <td>0</td>\n",
              "    </tr>\n",
              "    <tr>\n",
              "      <th>1</th>\n",
              "      <td>CHEMBL2047573</td>\n",
              "      <td>OC(CCN1CCC(O)(Cc2ccccc2)CC1)c1ccc(Cl)c(Cl)c1</td>\n",
              "      <td>6.248721</td>\n",
              "      <td>1</td>\n",
              "    </tr>\n",
              "    <tr>\n",
              "      <th>2</th>\n",
              "      <td>CHEMBL1083410</td>\n",
              "      <td>CNC[C@H](O)CCN1c2ccccc2N(c2ccccc2F)S1(=O)=O</td>\n",
              "      <td>5.618163</td>\n",
              "      <td>0</td>\n",
              "    </tr>\n",
              "    <tr>\n",
              "      <th>3</th>\n",
              "      <td>CHEMBL3673162</td>\n",
              "      <td>COc1ccc(-c2ccc3c(c2)CN2CCC3(c3ccc(Cl)c(Cl)c3)C...</td>\n",
              "      <td>8.229148</td>\n",
              "      <td>1</td>\n",
              "    </tr>\n",
              "    <tr>\n",
              "      <th>4</th>\n",
              "      <td>CHEMBL2096860</td>\n",
              "      <td>COC(=O)[C@H]1C2CCC(C[C@@H]1c1ccc(I)cc1)N2C</td>\n",
              "      <td>7.643974</td>\n",
              "      <td>1</td>\n",
              "    </tr>\n",
              "    <tr>\n",
              "      <th>...</th>\n",
              "      <td>...</td>\n",
              "      <td>...</td>\n",
              "      <td>...</td>\n",
              "      <td>...</td>\n",
              "    </tr>\n",
              "    <tr>\n",
              "      <th>111808</th>\n",
              "      <td>CHEMBL3143431</td>\n",
              "      <td>CC[C@H](C)[C@H](NC(=O)[C@@H](NC[C@H](CC(C)C)NC...</td>\n",
              "      <td>8.100000</td>\n",
              "      <td>1</td>\n",
              "    </tr>\n",
              "    <tr>\n",
              "      <th>111810</th>\n",
              "      <td>CHEMBL411570</td>\n",
              "      <td>C[C@@H](O)[C@H](NC(=O)[C@H](Cc1ccc(O)cc1)NC(=O...</td>\n",
              "      <td>3.740000</td>\n",
              "      <td>0</td>\n",
              "    </tr>\n",
              "    <tr>\n",
              "      <th>111811</th>\n",
              "      <td>CHEMBL1200633</td>\n",
              "      <td>CC[C@H](C)[C@H]1O[C@]2(CC[C@@H]1C)C[C@@H]1C[C@...</td>\n",
              "      <td>5.450000</td>\n",
              "      <td>1</td>\n",
              "    </tr>\n",
              "    <tr>\n",
              "      <th>111812</th>\n",
              "      <td>CHEMBL383931</td>\n",
              "      <td>C[C@H](NC(=O)[C@@H](N)Cc1ccc(-c2ccc(C[C@H](N)C...</td>\n",
              "      <td>3.760000</td>\n",
              "      <td>0</td>\n",
              "    </tr>\n",
              "    <tr>\n",
              "      <th>111813</th>\n",
              "      <td>CHEMBL374492</td>\n",
              "      <td>CC(c1ccc(-c2ccc(C[C@H](N)C(=O)O)cc2)cc1)[C@H](...</td>\n",
              "      <td>6.600000</td>\n",
              "      <td>1</td>\n",
              "    </tr>\n",
              "  </tbody>\n",
              "</table>\n",
              "<p>8329 rows × 4 columns</p>\n",
              "</div>"
            ],
            "text/plain": [
              "          compound_id  ... active\n",
              "0        CHEMBL599233  ...      0\n",
              "1       CHEMBL2047573  ...      1\n",
              "2       CHEMBL1083410  ...      0\n",
              "3       CHEMBL3673162  ...      1\n",
              "4       CHEMBL2096860  ...      1\n",
              "...               ...  ...    ...\n",
              "111808  CHEMBL3143431  ...      1\n",
              "111810   CHEMBL411570  ...      0\n",
              "111811  CHEMBL1200633  ...      1\n",
              "111812   CHEMBL383931  ...      0\n",
              "111813   CHEMBL374492  ...      1\n",
              "\n",
              "[8329 rows x 4 columns]"
            ]
          },
          "metadata": {
            "tags": []
          },
          "execution_count": 77
        }
      ]
    },
    {
      "cell_type": "code",
      "metadata": {
        "colab": {
          "base_uri": "https://localhost:8080/"
        },
        "id": "h_YBaBk5HRqy",
        "outputId": "07478d61-f02f-4d85-cb04-47ca97395fca"
      },
      "source": [
        "column = 'PXC50'\n",
        "\n",
        "# tolerance: Percentage of individual respsonse values allowed to different \n",
        "# from the average to be included in averaging\n",
        "tolerance = 10\n",
        "\n",
        "# list_bad_duplicates: Print structures with bad duplicates\n",
        "list_bad_duplicates = 'Yes'\n",
        "\n",
        "# max_std: Maximum allowed standard deviation for computed average response value\n",
        "# NOTE: In this example, we set this value very high to disable this feature\n",
        "max_std = 1\n",
        "\n",
        "# compound_id: Compound ID column\n",
        "compound_id = 'compound_id'\n",
        "\n",
        "# smiles_col: SMILES column\n",
        "smiles_col = 'base_rdkit_smiles'\n",
        "\n",
        "curated_df = curate_data.average_and_remove_duplicates(column, tolerance, \n",
        "                                                       list_bad_duplicates, \n",
        "                                                       comb_df, max_std, \n",
        "                                                       compound_id=compound_id, \n",
        "                                                       smiles_col=smiles_col)"
      ],
      "execution_count": 78,
      "outputs": [
        {
          "output_type": "stream",
          "text": [
            "Bad duplicates removed from dataset\n",
            "Dataframe size (8281, 8)\n",
            "List of 'bad' duplicates removed\n",
            "        compound_id      PXC50  VALUE_NUM_mean   Perc_Var  VALUE_NUM_std\n",
            "5349           2771   5.032920        6.117640  17.731020       2.101633\n",
            "3780           3386   5.721250        5.953495   3.900992       1.227600\n",
            "3257       44418862   8.853870        7.530487  17.573670       1.146084\n",
            "4079       CHEMBL11   4.590000        5.170352  11.224613       1.236139\n",
            "4078       CHEMBL11   4.700000        5.170352   9.097098       1.236139\n",
            "989        CHEMBL11   4.591760        5.170352  11.190572       1.236139\n",
            "4077       CHEMBL11   7.380000        5.170352  42.736897       1.236139\n",
            "1880       CHEMBL11   4.590000        5.170352  11.224613       1.236139\n",
            "132   CHEMBL1201082   4.982227        5.953495  16.314256       1.227600\n",
            "2180  CHEMBL1201082   4.984000        5.953495  16.284474       1.227600\n",
            "3781  CHEMBL1201082   6.110000        5.953495   2.628785       1.227600\n",
            "7815   CHEMBL137718   9.350000        8.365000  11.775254       1.393000\n",
            "7814   CHEMBL137718   7.380000        8.365000  11.775254       1.393000\n",
            "3425   CHEMBL150045   7.100000        8.400000  15.476190       1.838478\n",
            "3424   CHEMBL150045   9.700000        8.400000  15.476190       1.838478\n",
            "6198     CHEMBL1708   7.010000        7.022526   0.178371       1.350981\n",
            "1453   CHEMBL220195   6.870000        7.530487   8.770841       1.146084\n",
            "510    CHEMBL220195   6.867591        7.530487   8.802830       1.146084\n",
            "2551   CHEMBL281594   7.716429        8.739521  11.706505       1.299982\n",
            "158    CHEMBL281594   7.581656        8.739521  13.248615       1.299982\n",
            "6916   CHEMBL281594   9.440000        8.739521   8.015073       1.299982\n",
            "6915   CHEMBL281594  10.220000        8.739521  16.940047       1.299982\n",
            "3169   CHEMBL306700   4.320000        5.565000  22.371968       1.760696\n",
            "3170   CHEMBL306700   6.810000        5.565000  22.371968       1.760696\n",
            "718    CHEMBL307314   6.059982        6.763327  10.399400       1.218214\n",
            "8252   CHEMBL307314   8.170000        6.763327  20.798531       1.218214\n",
            "2211   CHEMBL307314   6.060000        6.763327  10.399131       1.218214\n",
            "2769   CHEMBL407803   5.780000        6.406021   9.772391       1.085978\n",
            "690    CHEMBL407803   5.778064        6.406021   9.802606       1.085978\n",
            "8247   CHEMBL407803   7.660000        6.406021  19.574997       1.085978\n",
            "4425       CHEMBL41   7.970000        5.953495  33.870936       1.227600\n",
            "2340   CHEMBL432727   5.850000        6.481187   9.738760       1.090165\n",
            "1352   CHEMBL432727   5.853562        6.481187   9.683803       1.090165\n",
            "8261   CHEMBL432727   7.740000        6.481187  19.422563       1.090165\n",
            "5564      CHEMBL490   6.400000        7.022526   8.864704       1.350981\n",
            "5563      CHEMBL490   9.360000        7.022526  33.285371       1.350981\n",
            "111       CHEMBL490   6.172631        7.022526  12.102417       1.350981\n",
            "1653      CHEMBL490   6.170000        7.022526  12.139879       1.350981\n",
            "4669   CHEMBL545557   6.920000        5.745000  20.452567       1.661701\n",
            "4670   CHEMBL545557   4.570000        5.745000  20.452567       1.661701\n",
            "6020      CHEMBL549   8.540000        6.117640  39.596315       2.101633\n",
            "6021      CHEMBL549   4.780000        6.117640  21.865294       2.101633\n",
            "3604       CHEMBL72   9.310000        5.798731  60.552360       2.377233\n",
            "3603       CHEMBL72   5.190000        5.798731  10.497664       2.377233\n",
            "2508       CHEMBL72   4.492000        5.798731  22.534780       2.377233\n",
            "536        CHEMBL72   4.202925        5.798731  27.519916       2.377233\n",
            "3539      CHEMBL814   8.840000        6.595000  34.040940       3.174909\n",
            "3538      CHEMBL814   4.350000        6.595000  34.040940       3.174909\n",
            "\n",
            "Dataset de-duplicated\n",
            "Dataframe size (5565, 8)\n",
            "New column created with averaged values:  VALUE_NUM_mean\n"
          ],
          "name": "stdout"
        }
      ]
    },
    {
      "cell_type": "code",
      "metadata": {
        "colab": {
          "base_uri": "https://localhost:8080/",
          "height": 435
        },
        "id": "cg-n_wFIHjLK",
        "outputId": "46b685c4-b67b-4be8-c7c3-9cc00fbe0a98"
      },
      "source": [
        "column = 'PXC50'\n",
        "\n",
        "# # of 'bins' for the histogram\n",
        "num_bins = 20\n",
        "\n",
        "title = 'SLC6A3'\n",
        "\n",
        "units = 'NM'\n",
        "\n",
        "filepath = \"\"\n",
        "\n",
        "data=curated_df\n",
        "\n",
        "curate_data.summarize_data(column, num_bins, title, units, filepath, data)"
      ],
      "execution_count": 79,
      "outputs": [
        {
          "output_type": "stream",
          "text": [
            "Post-processing dataset\n",
            "\n",
            "Total Number of results = 5565\n",
            "dataset mean = 6.703010039911565 NM\n",
            "dataset stdev = 1.2005630288468463 NM\n",
            "dataset max = 11.698970004336019 NM\n",
            "dataset min = 2.14 NM\n",
            "\n"
          ],
          "name": "stdout"
        },
        {
          "output_type": "display_data",
          "data": {
            "image/png": "[encoded data removed]",
            "text/plain": [
              "<Figure size 432x288 with 1 Axes>"
            ]
          },
          "metadata": {
            "tags": [],
            "needs_background": "light"
          }
        }
      ]
    },
    {
      "cell_type": "code",
      "metadata": {
        "id": "qYiiVRxPJg_N"
      },
      "source": [
        "curated_df.to_csv('drive/MyDrive/curated_combined_df.csv')"
      ],
      "execution_count": 89,
      "outputs": []
    },
    {
      "cell_type": "code",
      "metadata": {
        "id": "1uiK3dGuJlI3"
      },
      "source": [
        ""
      ],
      "execution_count": null,
      "outputs": []
    },
    {
      "cell_type": "code",
      "metadata": {
        "id": "nuMMoAenJicW"
      },
      "source": [
        ""
      ],
      "execution_count": null,
      "outputs": []
    },
    {
      "cell_type": "code",
      "metadata": {
        "id": "a5ikjjxHHsh9"
      },
      "source": [
        "feat_type='ECFP'\n",
        "dist_metric='tanimoto'\n",
        "union_s = curated_df['base_rdkit_smiles'].tolist()\n",
        "\n",
        "smiles_dtc = dtc['base_rdkit_smiles'].tolist()\n",
        "smiles_chembl = chembl['base_rdkit_smiles'].tolist()\n",
        "\n",
        "## Have the dataset with more compounds be the point of reference\n",
        "\n",
        "if len(smiles_dtc) > len(smiles_chembl) :\n",
        "    s1,s2=smiles_dtc,smiles_chembl\n",
        "else:\n",
        "    s1,s2=smiles_chembl,smiles_dtc\n",
        "calc_type='nearest'\n",
        "num_nearest = 5\n",
        "dist_sample=cd.calc_dist_smiles(feat_type, dist_metric, s1, s2, calc_type)"
      ],
      "execution_count": 81,
      "outputs": []
    },
    {
      "cell_type": "code",
      "metadata": {
        "colab": {
          "base_uri": "https://localhost:8080/",
          "height": 534
        },
        "id": "A8tPk2VEJCJ3",
        "outputId": "628e6fa2-1d12-446e-dc2c-4416fbc99f1a"
      },
      "source": [
        "from scipy.stats.kde import gaussian_kde\n",
        "\n",
        "import numpy as np\n",
        "import matplotlib.pyplot as plt\n",
        "\n",
        "odir='./'\n",
        "task_name='between dataset'\n",
        "dist_pdf = gaussian_kde(dist_sample)\n",
        "x_plt = np.linspace(min(dist_sample), max(dist_sample), 500)\n",
        "y_plt = dist_pdf(x_plt)    \n",
        "fig, ax = plt.subplots(figsize=(8.0,8.0))\n",
        "ax.plot(x_plt, y_plt, color='forestgreen')\n",
        "ax.set_xlabel('%s distance' % dist_metric)\n",
        "ax.set_ylabel('Density')\n",
        "ax.set_title(\"%s dataset\\nDistribution of %s distances between %s feature vectors\" % (\n",
        "              task_name, dist_metric, feat_type))\n",
        "fig.savefig(odir+'distance_to_background_mol.png')"
      ],
      "execution_count": 82,
      "outputs": [
        {
          "output_type": "display_data",
          "data": {
            "image/png": "[encoded data removed]",
            "text/plain": [
              "<Figure size 576x576 with 1 Axes>"
            ]
          },
          "metadata": {
            "tags": [],
            "needs_background": "light"
          }
        }
      ]
    },
    {
      "cell_type": "code",
      "metadata": {
        "id": "lBybyaXVJJos"
      },
      "source": [
        "feat_type='ECFP'\n",
        "dist_metric='tanimoto'\n",
        "union_s = curated_df['base_rdkit_smiles'].tolist()\n",
        "\n",
        "smiles_dtc = dtc['base_rdkit_smiles'].tolist()\n",
        "smiles_excape = excape_['base_rdkit_smiles'].tolist()\n",
        "\n",
        "## Have the dataset with more compounds be the point of reference\n",
        "\n",
        "if len(smiles_dtc) > len(smiles_excape) :\n",
        "    s1,s2=smiles_dtc,smiles_excape\n",
        "else:\n",
        "    s1,s2=smiles_excape,smiles_dtc\n",
        "calc_type='nearest'\n",
        "num_nearest = 5\n",
        "dist_sample=cd.calc_dist_smiles(feat_type, dist_metric, s1, s2, calc_type)"
      ],
      "execution_count": 83,
      "outputs": []
    },
    {
      "cell_type": "code",
      "metadata": {
        "colab": {
          "base_uri": "https://localhost:8080/",
          "height": 534
        },
        "id": "2Eq9N5NlJELp",
        "outputId": "bafbfa7e-bc13-4df8-8c18-3d53cdf46faa"
      },
      "source": [
        "from scipy.stats.kde import gaussian_kde\n",
        "\n",
        "import numpy as np\n",
        "import matplotlib.pyplot as plt\n",
        "\n",
        "odir='./'\n",
        "task_name='between dataset'\n",
        "dist_pdf = gaussian_kde(dist_sample)\n",
        "x_plt = np.linspace(min(dist_sample), max(dist_sample), 500)\n",
        "y_plt = dist_pdf(x_plt)    \n",
        "fig, ax = plt.subplots(figsize=(8.0,8.0))\n",
        "ax.plot(x_plt, y_plt, color='forestgreen')\n",
        "ax.set_xlabel('%s distance' % dist_metric)\n",
        "ax.set_ylabel('Density')\n",
        "ax.set_title(\"%s dataset\\nDistribution of %s distances between %s feature vectors\" % (\n",
        "              task_name, dist_metric, feat_type))\n",
        "fig.savefig(odir+'distance_to_background_mol.png')"
      ],
      "execution_count": 84,
      "outputs": [
        {
          "output_type": "display_data",
          "data": {
            "image/png": "[encoded data removed]",
            "text/plain": [
              "<Figure size 576x576 with 1 Axes>"
            ]
          },
          "metadata": {
            "tags": [],
            "needs_background": "light"
          }
        }
      ]
    }
  ]
}
