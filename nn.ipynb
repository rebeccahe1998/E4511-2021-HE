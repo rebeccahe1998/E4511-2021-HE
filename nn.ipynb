{
  "nbformat": 4,
  "nbformat_minor": 0,
  "metadata": {
    "colab": {
      "name": "nn.ipynb",
      "provenance": [],
      "collapsed_sections": [
        "hvAO1jeHJYWT",
        "q-kSaG5TIO5J"
      ],
      "machine_shape": "hm",
      "authorship_tag": "ABX9TyOB7nFN056sj6yvDpm7RuWy",
      "include_colab_link": true
    },
    "kernelspec": {
      "name": "python3",
      "display_name": "Python 3"
    },
    "language_info": {
      "name": "python"
    },
    "accelerator": "GPU"
  },
  "cells": [
    {
      "cell_type": "markdown",
      "metadata": {
        "id": "view-in-github",
        "colab_type": "text"
      },
      "source": [
        "<a href=\"https://colab.research.google.com/github/rebeccahe1998/E4511-2021-HE/blob/main/nn.ipynb\" target=\"_parent\"><img src=\"https://colab.research.google.com/assets/colab-badge.svg\" alt=\"Open In Colab\"/></a>"
      ]
    },
    {
      "cell_type": "markdown",
      "metadata": {
        "id": "IfQWfR9StHCb"
      },
      "source": [
        "# Install\n",
        "\n",
        "---\n",
        "\n"
      ]
    },
    {
      "cell_type": "code",
      "metadata": {
        "id": "obVbnVaZfguE"
      },
      "source": [
        "%tensorflow_version 1.x\n",
        "\n",
        "# get the Anaconda file \n",
        "! wget -c https://repo.anaconda.com/archive/Anaconda3-2019.10-Linux-x86_64.sh\n",
        "! chmod +x Anaconda3-2019.10-Linux-x86_64.sh\n",
        "! bash ./Anaconda3-2019.10-Linux-x86_64.sh -b -f -p /usr/local\n",
        "\n",
        "! time conda install -y -c deepchem -c rdkit -c conda-forge -c omnia deepchem-gpu=2.3.0\n",
        "\n",
        "import sys\n",
        "sys.path.append('/usr/local/lib/python3.7/site-packages/')\n",
        "import deepchem as dc\n",
        "\n",
        "# install mordred, bravado and molvs\n",
        "! time conda install -c conda-forge -y mordred bravado molvs\n",
        "\n",
        "# get the Install AMPL_GPU_test.sh\n",
        "!wget https://raw.githubusercontent.com/ravichas/AMPL-Tutorial/master/config/install_AMPL_GPU_test.sh\n",
        "\n",
        "# run the script to install AMPL\n",
        "! chmod u+x install_AMPL_GPU_test.sh\n",
        "! ./install_AMPL_GPU_test.sh\n",
        "\n",
        "!pip install hyperopt\n",
        "\n",
        "# FutureWarnings and DeprecationWarnings are present from some of the AMPL \n",
        "# dependency modules.\n",
        "import warnings\n",
        "warnings.filterwarnings('ignore')\n",
        "\n",
        "import json\n",
        "# import numpy as np\n",
        "# import pandas as pd\n",
        "import os\n",
        "import requests\n",
        "\n",
        "import matplotlib.pyplot as plt\n",
        "import seaborn as sns\n",
        "import numpy as np\n",
        "sns.set_context(\"poster\")\n",
        "sns.set_style(\"whitegrid\")\n",
        "sns.set_palette(\"Set2\")\n",
        "\n",
        "import pandas as pd\n",
        "import os, json, sys, glob, pickle\n"
      ],
      "execution_count": null,
      "outputs": []
    },
    {
      "cell_type": "code",
      "metadata": {
        "id": "MleP12-Ctjf_"
      },
      "source": [
        "! pip install bravado"
      ],
      "execution_count": null,
      "outputs": []
    },
    {
      "cell_type": "code",
      "metadata": {
        "id": "GptCD2EXmqvx"
      },
      "source": [
        "#! time conda install -c conda-forge -y mordred bravado molvs\n",
        "# There is a problem with the previously imported cffi, so delete it and load it with AMPL instead\n",
        "#if 'cffi' in sys.modules:\n",
        "#  del sys.modules['cffi']\n",
        "#import atomsci.ddm.pipeline.compare_models as cmp\n",
        "from atomsci.ddm.pipeline import model_pipeline as mp\n",
        "import atomsci.ddm.pipeline.compare_models as cmp\n",
        "from atomsci.ddm.pipeline import parameter_parser as parse\n",
        "from atomsci.ddm.pipeline import perf_data\n",
        "from atomsci.ddm.pipeline import model_wrapper\n",
        "from hyperopt import fmin, tpe, hp, Trials, STATUS_OK"
      ],
      "execution_count": 16,
      "outputs": []
    },
    {
      "cell_type": "code",
      "metadata": {
        "id": "kCx6EwDWxoK-"
      },
      "source": [
        ""
      ],
      "execution_count": 3,
      "outputs": []
    },
    {
      "cell_type": "markdown",
      "metadata": {
        "id": "10qHWB9Qxom3"
      },
      "source": [
        "# Read CSV\n",
        "\n",
        "---\n",
        "\n"
      ]
    },
    {
      "cell_type": "code",
      "metadata": {
        "colab": {
          "base_uri": "https://localhost:8080/"
        },
        "id": "61xu5YehtkLZ",
        "outputId": "b4c68cb2-bb9c-41be-8da1-ac56500aa4eb"
      },
      "source": [
        "! wget https://raw.githubusercontent.com/rebeccahe1998/E4511-2021-HE/main/data/curated_combined_df_1.csv"
      ],
      "execution_count": 4,
      "outputs": [
        {
          "output_type": "stream",
          "text": [
            "--2021-04-08 15:44:45--  https://raw.githubusercontent.com/rebeccahe1998/E4511-2021-HE/main/data/curated_combined_df_1.csv\n",
            "Resolving raw.githubusercontent.com (raw.githubusercontent.com)... 185.199.109.133, 185.199.110.133, 185.199.111.133, ...\n",
            "Connecting to raw.githubusercontent.com (raw.githubusercontent.com)|185.199.109.133|:443... connected.\n",
            "HTTP request sent, awaiting response... 200 OK\n",
            "Length: 541554 (529K) [text/plain]\n",
            "Saving to: ‘curated_combined_df_1.csv’\n",
            "\n",
            "curated_combined_df 100%[===================>] 528.86K  --.-KB/s    in 0.04s   \n",
            "\n",
            "2021-04-08 15:44:45 (12.7 MB/s) - ‘curated_combined_df_1.csv’ saved [541554/541554]\n",
            "\n"
          ],
          "name": "stdout"
        }
      ]
    },
    {
      "cell_type": "code",
      "metadata": {
        "colab": {
          "base_uri": "https://localhost:8080/",
          "height": 0
        },
        "id": "gsGafk-Q0LWe",
        "outputId": "430db762-e04f-4517-f1d2-cacb5150fa97"
      },
      "source": [
        "import pandas as pd\n",
        "df = pd.read_csv('curated_combined_df_1.csv', index_col=0)\n",
        "df"
      ],
      "execution_count": 5,
      "outputs": [
        {
          "output_type": "execute_result",
          "data": {
            "text/html": [
              "<div>\n",
              "<style scoped>\n",
              "    .dataframe tbody tr th:only-of-type {\n",
              "        vertical-align: middle;\n",
              "    }\n",
              "\n",
              "    .dataframe tbody tr th {\n",
              "        vertical-align: top;\n",
              "    }\n",
              "\n",
              "    .dataframe thead th {\n",
              "        text-align: right;\n",
              "    }\n",
              "</style>\n",
              "<table border=\"1\" class=\"dataframe\">\n",
              "  <thead>\n",
              "    <tr style=\"text-align: right;\">\n",
              "      <th></th>\n",
              "      <th>compound_id</th>\n",
              "      <th>base_rdkit_smiles</th>\n",
              "      <th>active</th>\n",
              "      <th>VALUE_NUM_mean</th>\n",
              "      <th>VALUE_NUM_std</th>\n",
              "      <th>Perc_Var</th>\n",
              "      <th>Remove_BadDuplicate</th>\n",
              "      <th>PXC50</th>\n",
              "    </tr>\n",
              "  </thead>\n",
              "  <tbody>\n",
              "    <tr>\n",
              "      <th>0</th>\n",
              "      <td>CHEMBL599233</td>\n",
              "      <td>CC(C(=O)c1cccc([N+](=O)[O-])c1)N1CCCCC1</td>\n",
              "      <td>0</td>\n",
              "      <td>5.000000</td>\n",
              "      <td>0.000000</td>\n",
              "      <td>0.000000</td>\n",
              "      <td>0</td>\n",
              "      <td>5.000000</td>\n",
              "    </tr>\n",
              "    <tr>\n",
              "      <th>1</th>\n",
              "      <td>CHEMBL2047573</td>\n",
              "      <td>OC(CCN1CCC(O)(Cc2ccccc2)CC1)c1ccc(Cl)c(Cl)c1</td>\n",
              "      <td>1</td>\n",
              "      <td>6.249574</td>\n",
              "      <td>0.000738</td>\n",
              "      <td>0.013645</td>\n",
              "      <td>0</td>\n",
              "      <td>6.248721</td>\n",
              "    </tr>\n",
              "    <tr>\n",
              "      <th>2</th>\n",
              "      <td>CHEMBL1083410</td>\n",
              "      <td>CNC[C@H](O)CCN1c2ccccc2N(c2ccccc2F)S1(=O)=O</td>\n",
              "      <td>0</td>\n",
              "      <td>5.619388</td>\n",
              "      <td>0.001060</td>\n",
              "      <td>0.021791</td>\n",
              "      <td>0</td>\n",
              "      <td>5.618163</td>\n",
              "    </tr>\n",
              "    <tr>\n",
              "      <th>3</th>\n",
              "      <td>CHEMBL3673162</td>\n",
              "      <td>COc1ccc(-c2ccc3c(c2)CN2CCC3(c3ccc(Cl)c(Cl)c3)C...</td>\n",
              "      <td>1</td>\n",
              "      <td>8.229574</td>\n",
              "      <td>0.000602</td>\n",
              "      <td>0.005177</td>\n",
              "      <td>0</td>\n",
              "      <td>8.229148</td>\n",
              "    </tr>\n",
              "    <tr>\n",
              "      <th>4</th>\n",
              "      <td>CHEMBL2096860</td>\n",
              "      <td>COC(=O)[C@H]1C2CCC(C[C@@H]1c1ccc(I)cc1)N2C</td>\n",
              "      <td>1</td>\n",
              "      <td>7.642648</td>\n",
              "      <td>0.002293</td>\n",
              "      <td>0.017351</td>\n",
              "      <td>0</td>\n",
              "      <td>7.643974</td>\n",
              "    </tr>\n",
              "    <tr>\n",
              "      <th>...</th>\n",
              "      <td>...</td>\n",
              "      <td>...</td>\n",
              "      <td>...</td>\n",
              "      <td>...</td>\n",
              "      <td>...</td>\n",
              "      <td>...</td>\n",
              "      <td>...</td>\n",
              "      <td>...</td>\n",
              "    </tr>\n",
              "    <tr>\n",
              "      <th>5471</th>\n",
              "      <td>CHEMBL218952</td>\n",
              "      <td>C[C@@H](O)[C@H](NC(=O)[C@H](Cc1ccc(O)cc1)NC(=O...</td>\n",
              "      <td>0</td>\n",
              "      <td>3.700000</td>\n",
              "      <td>NaN</td>\n",
              "      <td>0.000000</td>\n",
              "      <td>0</td>\n",
              "      <td>3.700000</td>\n",
              "    </tr>\n",
              "    <tr>\n",
              "      <th>5472</th>\n",
              "      <td>CHEMBL3143431</td>\n",
              "      <td>CC[C@H](C)[C@H](NC(=O)[C@@H](NC[C@H](CC(C)C)NC...</td>\n",
              "      <td>1</td>\n",
              "      <td>8.100000</td>\n",
              "      <td>NaN</td>\n",
              "      <td>0.000000</td>\n",
              "      <td>0</td>\n",
              "      <td>8.100000</td>\n",
              "    </tr>\n",
              "    <tr>\n",
              "      <th>5473</th>\n",
              "      <td>CHEMBL411570</td>\n",
              "      <td>C[C@@H](O)[C@H](NC(=O)[C@H](Cc1ccc(O)cc1)NC(=O...</td>\n",
              "      <td>0</td>\n",
              "      <td>3.740000</td>\n",
              "      <td>NaN</td>\n",
              "      <td>0.000000</td>\n",
              "      <td>0</td>\n",
              "      <td>3.740000</td>\n",
              "    </tr>\n",
              "    <tr>\n",
              "      <th>5474</th>\n",
              "      <td>CHEMBL383931</td>\n",
              "      <td>C[C@H](NC(=O)[C@@H](N)Cc1ccc(-c2ccc(C[C@H](N)C...</td>\n",
              "      <td>0</td>\n",
              "      <td>3.760000</td>\n",
              "      <td>NaN</td>\n",
              "      <td>0.000000</td>\n",
              "      <td>0</td>\n",
              "      <td>3.760000</td>\n",
              "    </tr>\n",
              "    <tr>\n",
              "      <th>5475</th>\n",
              "      <td>CHEMBL374492</td>\n",
              "      <td>CC(c1ccc(-c2ccc(C[C@H](N)C(=O)O)cc2)cc1)[C@H](...</td>\n",
              "      <td>1</td>\n",
              "      <td>6.600000</td>\n",
              "      <td>NaN</td>\n",
              "      <td>0.000000</td>\n",
              "      <td>0</td>\n",
              "      <td>6.600000</td>\n",
              "    </tr>\n",
              "  </tbody>\n",
              "</table>\n",
              "<p>5476 rows × 8 columns</p>\n",
              "</div>"
            ],
            "text/plain": [
              "        compound_id  ...     PXC50\n",
              "0      CHEMBL599233  ...  5.000000\n",
              "1     CHEMBL2047573  ...  6.248721\n",
              "2     CHEMBL1083410  ...  5.618163\n",
              "3     CHEMBL3673162  ...  8.229148\n",
              "4     CHEMBL2096860  ...  7.643974\n",
              "...             ...  ...       ...\n",
              "5471   CHEMBL218952  ...  3.700000\n",
              "5472  CHEMBL3143431  ...  8.100000\n",
              "5473   CHEMBL411570  ...  3.740000\n",
              "5474   CHEMBL383931  ...  3.760000\n",
              "5475   CHEMBL374492  ...  6.600000\n",
              "\n",
              "[5476 rows x 8 columns]"
            ]
          },
          "metadata": {
            "tags": []
          },
          "execution_count": 5
        }
      ]
    },
    {
      "cell_type": "code",
      "metadata": {
        "colab": {
          "base_uri": "https://localhost:8080/",
          "height": 0
        },
        "id": "GSUNXzkQ2BiQ",
        "outputId": "cde480d2-bd69-4af6-fc62-efb3bcf912a5"
      },
      "source": [
        "df[df.compound_id.duplicated(keep=False)==True].sort_values(by='compound_id')"
      ],
      "execution_count": 6,
      "outputs": [
        {
          "output_type": "execute_result",
          "data": {
            "text/html": [
              "<div>\n",
              "<style scoped>\n",
              "    .dataframe tbody tr th:only-of-type {\n",
              "        vertical-align: middle;\n",
              "    }\n",
              "\n",
              "    .dataframe tbody tr th {\n",
              "        vertical-align: top;\n",
              "    }\n",
              "\n",
              "    .dataframe thead th {\n",
              "        text-align: right;\n",
              "    }\n",
              "</style>\n",
              "<table border=\"1\" class=\"dataframe\">\n",
              "  <thead>\n",
              "    <tr style=\"text-align: right;\">\n",
              "      <th></th>\n",
              "      <th>compound_id</th>\n",
              "      <th>base_rdkit_smiles</th>\n",
              "      <th>active</th>\n",
              "      <th>VALUE_NUM_mean</th>\n",
              "      <th>VALUE_NUM_std</th>\n",
              "      <th>Perc_Var</th>\n",
              "      <th>Remove_BadDuplicate</th>\n",
              "      <th>PXC50</th>\n",
              "    </tr>\n",
              "  </thead>\n",
              "  <tbody>\n",
              "  </tbody>\n",
              "</table>\n",
              "</div>"
            ],
            "text/plain": [
              "Empty DataFrame\n",
              "Columns: [compound_id, base_rdkit_smiles, active, VALUE_NUM_mean, VALUE_NUM_std, Perc_Var, Remove_BadDuplicate, PXC50]\n",
              "Index: []"
            ]
          },
          "metadata": {
            "tags": []
          },
          "execution_count": 6
        }
      ]
    },
    {
      "cell_type": "code",
      "metadata": {
        "id": "uUpyI4PeA9NH"
      },
      "source": [
        "df.to_csv(\"curated_combined_df_1.csv\")"
      ],
      "execution_count": 8,
      "outputs": []
    },
    {
      "cell_type": "markdown",
      "metadata": {
        "id": "1_EZMaO8NAkA"
      },
      "source": [
        "# Split\n",
        "\n",
        "---\n",
        "\n"
      ]
    },
    {
      "cell_type": "code",
      "metadata": {
        "id": "3-yKgx1n5-dL"
      },
      "source": [
        "working_dir = '/content'"
      ],
      "execution_count": 9,
      "outputs": []
    },
    {
      "cell_type": "code",
      "metadata": {
        "colab": {
          "base_uri": "https://localhost:8080/"
        },
        "id": "i58Ne7WV0ndI",
        "outputId": "91e0d63d-0112-44ae-da4d-3d6fe0005294"
      },
      "source": [
        "# data splits based on the scaffold of small molecules.\n",
        "\n",
        "response_col = ['VALUE_NUM_mean']\n",
        "smiles_col = 'base_rdkit_smiles'\n",
        "compound_id = 'compound_id'\n",
        "train_file = \"curated_combined_df_1.csv\"\n",
        "params = {\n",
        "        \"system\": \"LC\",\n",
        "        \"lc_account\": 'None',\n",
        "        \"datastore\": \"False\",   #Boolean flag for using an input file from the LLNL specific datastore system based on a key of dataset_key\n",
        "        \"save_results\": \"False\", # Save model results to MongoDB,\n",
        "        \"prediction_type\": \"regression\",\n",
        "        \"dataset_key\": train_file,\n",
        "        \"id_col\": compound_id,\n",
        "        \"smiles_col\": smiles_col,\n",
        "        \"response_cols\": response_col,\n",
        "        \"previously_split\": \"False\",  # Boolean flag for loading in previously split train, validation, and test csv files\n",
        "        \"split_only\": \"True\",   # indicate splitting of the datasets when running the hyperparameter search\n",
        "        'split_strategy':'train_valid_test',\n",
        "        \"featurizer\": \"graphconv\",\n",
        "        'descriptor_type': 'graphconv',\n",
        "        \"model_type\": \"NN\",\n",
        "        \"verbose\": \"True\",\n",
        "        \"transformers\": \"True\", #using transformation on regression output\n",
        "        \"rerun\": \"False\",\n",
        "        \"result_dir\": working_dir\n",
        "    }\n",
        "\n",
        "ampl_param = parse.wrapper(params)\n",
        "pl = mp.ModelPipeline(ampl_param)\n",
        "pl.train_model()"
      ],
      "execution_count": 10,
      "outputs": [
        {
          "output_type": "stream",
          "text": [
            "2021-04-08 15:45:45,771 ['split_stategy'] are not part of the accepted list of parameters and will be ignored\n"
          ],
          "name": "stderr"
        },
        {
          "output_type": "stream",
          "text": [
            "number of features: 75\n"
          ],
          "name": "stdout"
        },
        {
          "output_type": "stream",
          "text": [
            "2021-04-08 15:46:08,137 Splitting data by scaffold\n",
            "2021-04-08 15:46:25,625 Dataset split table saved to /curated_combined_df_1_train_valid_test_scaffold_bf84e0d2-92bd-4cb4-af4d-659dcd1b2d31.csv\n"
          ],
          "name": "stderr"
        }
      ]
    },
    {
      "cell_type": "code",
      "metadata": {
        "colab": {
          "base_uri": "https://localhost:8080/",
          "height": 0
        },
        "id": "v8DcMxhdpq1t",
        "outputId": "7cdb8ce5-7de3-4780-91a9-83a55c63ceb5"
      },
      "source": [
        "split_uuid = pl.split_dataset()\n",
        "split_uuid"
      ],
      "execution_count": 11,
      "outputs": [
        {
          "output_type": "stream",
          "text": [
            "number of features: 75\n"
          ],
          "name": "stdout"
        },
        {
          "output_type": "stream",
          "text": [
            "2021-04-08 15:48:58,110 Splitting data by scaffold\n",
            "2021-04-08 15:49:15,513 Dataset split table saved to /curated_combined_df_1_train_valid_test_scaffold_0742566a-68ab-400e-b5be-e53a6401bfb5.csv\n"
          ],
          "name": "stderr"
        },
        {
          "output_type": "execute_result",
          "data": {
            "application/vnd.google.colaboratory.intrinsic+json": {
              "type": "string"
            },
            "text/plain": [
              "'0742566a-68ab-400e-b5be-e53a6401bfb5'"
            ]
          },
          "metadata": {
            "tags": []
          },
          "execution_count": 11
        }
      ]
    },
    {
      "cell_type": "code",
      "metadata": {
        "id": "mlW999mX98TA"
      },
      "source": [
        "listing = glob.glob(os.path.join(\"/\", \"curated_combined_df_1_train_valid_test_scaffold_*\"))"
      ],
      "execution_count": 12,
      "outputs": []
    },
    {
      "cell_type": "markdown",
      "metadata": {
        "id": "Ypj3E8iBNGDk"
      },
      "source": [
        "# Train Initial NN\n",
        "\n",
        "---\n",
        "\n"
      ]
    },
    {
      "cell_type": "code",
      "metadata": {
        "id": "SS-Pdktl_YHB"
      },
      "source": [
        "# train inital CNN model\n",
        "\n",
        "#name = listing[0]\n",
        "#name.split(\"_\")[-1].split(\".\")[0]\n",
        "\n",
        "\n",
        "params = {\n",
        "        \"system\": \"LC\",\n",
        "        \"lc_account\": 'None',\n",
        "        \"datastore\": \"False\",\n",
        "        \"save_results\": \"False\",\n",
        "        \"data_owner\": \"username\",\n",
        "        \"prediction_type\": \"regression\",\n",
        "        \"dataset_key\": train_file,\n",
        "        \"id_col\": compound_id,\n",
        "        \"smiles_col\": smiles_col,\n",
        "        \"response_cols\": response_col,\n",
        "        \"split_uuid\": split_uuid,   # UUID for csv file containing train, validation, and test split information\n",
        "        \"previously_split\": \"True\",\n",
        "        \"featurizer\": \"graphconv\",\n",
        "        \"model_type\": \"NN\",\n",
        "        \"verbose\": \"True\",\n",
        "        \"transformers\": \"True\",\n",
        "        'max_epochs': '70',\n",
        "        \"rerun\": \"False\",\n",
        "        \"result_dir\": \"ampl_output\"\n",
        "    }"
      ],
      "execution_count": 20,
      "outputs": []
    },
    {
      "cell_type": "code",
      "metadata": {
        "id": "drIDNN00_kFy"
      },
      "source": [
        "ampl_param = parse.wrapper(params)\n",
        "pl = mp.ModelPipeline(ampl_param)\n",
        "pl.train_model()"
      ],
      "execution_count": null,
      "outputs": []
    },
    {
      "cell_type": "code",
      "metadata": {
        "colab": {
          "base_uri": "https://localhost:8080/"
        },
        "id": "6TtP2X_fADsm",
        "outputId": "6180a29d-956c-48c8-81e8-aa656374760c"
      },
      "source": [
        "pred_data = pl.model_wrapper.get_perf_data(subset=\"valid\", epoch_label=\"best\")\n",
        "pred_results = pred_data.get_prediction_results()\n",
        "print(f\"R2 score of validation set: {pred_results['r2_score']:.3f}\")"
      ],
      "execution_count": 22,
      "outputs": [
        {
          "output_type": "stream",
          "text": [
            "R2 score of validation set: 0.491\n"
          ],
          "name": "stdout"
        }
      ]
    },
    {
      "cell_type": "code",
      "metadata": {
        "colab": {
          "base_uri": "https://localhost:8080/"
        },
        "id": "cG5jUZdV8QiQ",
        "outputId": "b1859b00-09b9-4c8f-e3fb-48f8bf55b234"
      },
      "source": [
        "pred_data = pl.model_wrapper.get_perf_data(subset=\"test\", epoch_label=\"best\")\n",
        "pred_results = pred_data.get_prediction_results()\n",
        "print(f\"R2 score of test set: {pred_results['r2_score']:.3f}\")"
      ],
      "execution_count": 23,
      "outputs": [
        {
          "output_type": "stream",
          "text": [
            "R2 score of test set: 0.328\n"
          ],
          "name": "stdout"
        }
      ]
    },
    {
      "cell_type": "markdown",
      "metadata": {
        "id": "hvAO1jeHJYWT"
      },
      "source": [
        "# Grid Search 1\n",
        "\n",
        "Since I don't have much prior experience on tuning a CNN model on this dataset, I will do grid search "
      ]
    },
    {
      "cell_type": "code",
      "metadata": {
        "colab": {
          "base_uri": "https://localhost:8080/"
        },
        "id": "I_PKAOQ6g7a7",
        "outputId": "4dd3a604-7b69-4b13-a045-b735957fc533"
      },
      "source": [
        "params"
      ],
      "execution_count": 24,
      "outputs": [
        {
          "output_type": "execute_result",
          "data": {
            "text/plain": [
              "{'data_owner': 'username',\n",
              " 'dataset_key': 'curated_combined_df_1.csv',\n",
              " 'datastore': 'False',\n",
              " 'featurizer': 'graphconv',\n",
              " 'id_col': 'compound_id',\n",
              " 'lc_account': 'None',\n",
              " 'max_epochs': '70',\n",
              " 'model_type': 'NN',\n",
              " 'prediction_type': 'regression',\n",
              " 'previously_split': 'True',\n",
              " 'rerun': 'False',\n",
              " 'response_cols': ['VALUE_NUM_mean'],\n",
              " 'result_dir': 'ampl_output',\n",
              " 'save_results': 'False',\n",
              " 'smiles_col': 'base_rdkit_smiles',\n",
              " 'split_uuid': '0742566a-68ab-400e-b5be-e53a6401bfb5',\n",
              " 'system': 'LC',\n",
              " 'transformers': 'True',\n",
              " 'verbose': 'True'}"
            ]
          },
          "metadata": {
            "tags": []
          },
          "execution_count": 24
        }
      ]
    },
    {
      "cell_type": "code",
      "metadata": {
        "id": "0v8tjKgnJXI3"
      },
      "source": [
        "learning_rate = [0.0003]\n",
        "max_epochs = [30,90]\n",
        "batch_size = [16,50,90]\n",
        "\n",
        "learning_rate_list = []\n",
        "max_epochs_list = []\n",
        "batch_size_list = []\n",
        "valid_r2_list = []\n",
        "for lr in learning_rate:\n",
        "    for me in max_epochs:\n",
        "        for bs in batch_size:\n",
        "            params[\"learning_rate\"] = lr\n",
        "            params[\"max_epochs\"] = me\n",
        "            params[\"batch_size\"] = bs\n",
        "            learning_rate_list.append(lr)\n",
        "            max_epochs_list.append(me)\n",
        "            batch_size_list.append(bs)\n",
        "            tp = parse.wrapper(params)\n",
        "            pl = mp.ModelPipeline(tp)\n",
        "            pl.train_model()\n",
        "            # predict on validation set\n",
        "            pred_data = pl.model_wrapper.get_perf_data(subset=\"valid\", epoch_label=\"best\")\n",
        "            pred_results = pred_data.get_prediction_results()\n",
        "            valid_r2 = pred_results['r2_score']\n",
        "            valid_r2_list.append(valid_r2)\n",
        "            #print(f\"rf_estimators: {rf_estimator}, rf_max_depth: {rf_depth}, rf_max_features: {rf_feature}, valid_r2: {valid_r2}\")"
      ],
      "execution_count": null,
      "outputs": []
    },
    {
      "cell_type": "code",
      "metadata": {
        "colab": {
          "base_uri": "https://localhost:8080/",
          "height": 225
        },
        "id": "bawmfF73JXM0",
        "outputId": "2efd85f2-9581-4432-c986-25041fef5561"
      },
      "source": [
        "perf_df = pd.DataFrame({\"learning rate\": learning_rate_list, \"max epoches\": max_epochs_list, \"batch size\": batch_size_list, \"valid_r2_score\": valid_r2_list})\n",
        "perf_df.sort_values(by=\"valid_r2_score\", ascending=False)"
      ],
      "execution_count": null,
      "outputs": [
        {
          "output_type": "execute_result",
          "data": {
            "text/html": [
              "<div>\n",
              "<style scoped>\n",
              "    .dataframe tbody tr th:only-of-type {\n",
              "        vertical-align: middle;\n",
              "    }\n",
              "\n",
              "    .dataframe tbody tr th {\n",
              "        vertical-align: top;\n",
              "    }\n",
              "\n",
              "    .dataframe thead th {\n",
              "        text-align: right;\n",
              "    }\n",
              "</style>\n",
              "<table border=\"1\" class=\"dataframe\">\n",
              "  <thead>\n",
              "    <tr style=\"text-align: right;\">\n",
              "      <th></th>\n",
              "      <th>learning rate</th>\n",
              "      <th>max epoches</th>\n",
              "      <th>batch size</th>\n",
              "      <th>valid_r2_score</th>\n",
              "    </tr>\n",
              "  </thead>\n",
              "  <tbody>\n",
              "    <tr>\n",
              "      <th>3</th>\n",
              "      <td>0.0003</td>\n",
              "      <td>90</td>\n",
              "      <td>16</td>\n",
              "      <td>0.512176</td>\n",
              "    </tr>\n",
              "    <tr>\n",
              "      <th>4</th>\n",
              "      <td>0.0003</td>\n",
              "      <td>90</td>\n",
              "      <td>50</td>\n",
              "      <td>0.488229</td>\n",
              "    </tr>\n",
              "    <tr>\n",
              "      <th>5</th>\n",
              "      <td>0.0003</td>\n",
              "      <td>90</td>\n",
              "      <td>90</td>\n",
              "      <td>0.458005</td>\n",
              "    </tr>\n",
              "    <tr>\n",
              "      <th>0</th>\n",
              "      <td>0.0003</td>\n",
              "      <td>30</td>\n",
              "      <td>16</td>\n",
              "      <td>0.435182</td>\n",
              "    </tr>\n",
              "    <tr>\n",
              "      <th>2</th>\n",
              "      <td>0.0003</td>\n",
              "      <td>30</td>\n",
              "      <td>90</td>\n",
              "      <td>0.410229</td>\n",
              "    </tr>\n",
              "    <tr>\n",
              "      <th>1</th>\n",
              "      <td>0.0003</td>\n",
              "      <td>30</td>\n",
              "      <td>50</td>\n",
              "      <td>0.368990</td>\n",
              "    </tr>\n",
              "  </tbody>\n",
              "</table>\n",
              "</div>"
            ],
            "text/plain": [
              "   learning rate  max epoches  batch size  valid_r2_score\n",
              "3         0.0003           90          16        0.512176\n",
              "4         0.0003           90          50        0.488229\n",
              "5         0.0003           90          90        0.458005\n",
              "0         0.0003           30          16        0.435182\n",
              "2         0.0003           30          90        0.410229\n",
              "1         0.0003           30          50        0.368990"
            ]
          },
          "metadata": {
            "tags": []
          },
          "execution_count": 34
        }
      ]
    },
    {
      "cell_type": "code",
      "metadata": {
        "colab": {
          "base_uri": "https://localhost:8080/",
          "height": 483
        },
        "id": "M76IHs_XJXTK",
        "outputId": "53a05de6-db57-4309-e862-6af3015e99b1"
      },
      "source": [
        "fig, ax = plt.subplots(1,3,figsize=(21,7))\n",
        "sns.boxplot(data=perf_df, x=\"learning rate\", y=\"valid_r2_score\", ax=ax[0])\n",
        "sns.boxplot(data=perf_df, x=\"max epoches\", y=\"valid_r2_score\", ax=ax[1])\n",
        "sns.boxplot(data=perf_df, x=\"batch size\", y=\"valid_r2_score\", ax=ax[2])\n",
        "fig.tight_layout()"
      ],
      "execution_count": null,
      "outputs": [
        {
          "output_type": "display_data",
          "data": {
            "image/png": "[encoded data removed]",
            "text/plain": [
              "<Figure size 1512x504 with 3 Axes>"
            ]
          },
          "metadata": {
            "tags": [],
            "needs_background": "light"
          }
        }
      ]
    },
    {
      "cell_type": "code",
      "metadata": {
        "id": "nocc2RWL1hWO"
      },
      "source": [
        ""
      ],
      "execution_count": null,
      "outputs": []
    },
    {
      "cell_type": "markdown",
      "metadata": {
        "id": "AVrKfBBXfNlJ"
      },
      "source": [
        "# Refined Grid Search"
      ]
    },
    {
      "cell_type": "code",
      "metadata": {
        "id": "cEfUuoXOQPbn"
      },
      "source": [
        "\n",
        "learning_rate = [0.0005]\n",
        "max_epochs = [100]\n",
        "batch_size = [10,13]\n",
        "\n",
        "learning_rate_list = []\n",
        "max_epochs_list = []\n",
        "batch_size_list = []\n",
        "valid_r2_list = []\n",
        "for lr in learning_rate:\n",
        "    for me in max_epochs:\n",
        "        for bs in batch_size:\n",
        "            params[\"learning_rate\"] = lr\n",
        "            params[\"max_epochs\"] = me\n",
        "            params[\"batch_size\"] = bs\n",
        "            learning_rate_list.append(lr)\n",
        "            max_epochs_list.append(me)\n",
        "            batch_size_list.append(bs)\n",
        "            tp = parse.wrapper(params)\n",
        "            pl = mp.ModelPipeline(tp)\n",
        "            pl.train_model()\n",
        "            # predict on validation set\n",
        "            pred_data = pl.model_wrapper.get_perf_data(subset=\"valid\", epoch_label=\"best\")\n",
        "            pred_results = pred_data.get_prediction_results()\n",
        "            valid_r2 = pred_results['r2_score']\n",
        "            valid_r2_list.append(valid_r2)\n"
      ],
      "execution_count": null,
      "outputs": []
    },
    {
      "cell_type": "code",
      "metadata": {
        "id": "4-Zx4JkRQPhQ",
        "colab": {
          "base_uri": "https://localhost:8080/",
          "height": 110
        },
        "outputId": "9e323cdc-4081-4ac2-8089-2d5f1ca619bc"
      },
      "source": [
        "perf_df2 = pd.DataFrame({\"learning rate\": learning_rate_list, \"max epoches\": max_epochs_list, \"batch size\": batch_size_list, \"valid_r2_score\": valid_r2_list})\n",
        "perf_df2.sort_values(by=\"valid_r2_score\", ascending=False)"
      ],
      "execution_count": 27,
      "outputs": [
        {
          "output_type": "execute_result",
          "data": {
            "text/html": [
              "<div>\n",
              "<style scoped>\n",
              "    .dataframe tbody tr th:only-of-type {\n",
              "        vertical-align: middle;\n",
              "    }\n",
              "\n",
              "    .dataframe tbody tr th {\n",
              "        vertical-align: top;\n",
              "    }\n",
              "\n",
              "    .dataframe thead th {\n",
              "        text-align: right;\n",
              "    }\n",
              "</style>\n",
              "<table border=\"1\" class=\"dataframe\">\n",
              "  <thead>\n",
              "    <tr style=\"text-align: right;\">\n",
              "      <th></th>\n",
              "      <th>learning rate</th>\n",
              "      <th>max epoches</th>\n",
              "      <th>batch size</th>\n",
              "      <th>valid_r2_score</th>\n",
              "    </tr>\n",
              "  </thead>\n",
              "  <tbody>\n",
              "    <tr>\n",
              "      <th>0</th>\n",
              "      <td>0.0005</td>\n",
              "      <td>100</td>\n",
              "      <td>10</td>\n",
              "      <td>0.507958</td>\n",
              "    </tr>\n",
              "    <tr>\n",
              "      <th>1</th>\n",
              "      <td>0.0005</td>\n",
              "      <td>100</td>\n",
              "      <td>13</td>\n",
              "      <td>0.500097</td>\n",
              "    </tr>\n",
              "  </tbody>\n",
              "</table>\n",
              "</div>"
            ],
            "text/plain": [
              "   learning rate  max epoches  batch size  valid_r2_score\n",
              "0         0.0005          100          10        0.507958\n",
              "1         0.0005          100          13        0.500097"
            ]
          },
          "metadata": {
            "tags": []
          },
          "execution_count": 27
        }
      ]
    },
    {
      "cell_type": "code",
      "metadata": {
        "id": "c5wqDw0Y1j0O"
      },
      "source": [
        ""
      ],
      "execution_count": null,
      "outputs": []
    },
    {
      "cell_type": "code",
      "metadata": {
        "id": "ufLX885W1j35"
      },
      "source": [
        ""
      ],
      "execution_count": null,
      "outputs": []
    },
    {
      "cell_type": "code",
      "metadata": {
        "id": "d-X6e8OjBrEr"
      },
      "source": [
        ""
      ],
      "execution_count": null,
      "outputs": []
    },
    {
      "cell_type": "code",
      "metadata": {
        "id": "H0hKfjxfDN-3"
      },
      "source": [
        ""
      ],
      "execution_count": null,
      "outputs": []
    },
    {
      "cell_type": "code",
      "metadata": {
        "id": "-i61y43rFEAi"
      },
      "source": [
        ""
      ],
      "execution_count": null,
      "outputs": []
    },
    {
      "cell_type": "code",
      "metadata": {
        "colab": {
          "base_uri": "https://localhost:8080/",
          "height": 334
        },
        "id": "3hhZjhaPrX_t",
        "outputId": "49ff1de0-0c0c-4c5f-9bc8-e20aa3a7bade"
      },
      "source": [
        "#  Retrieve model metadata and performance metrics stored in the filesystem from a hyperparameter search run.\n",
        "cmp.get_filesystem_perf_results('ampl_output', pred_type='regression').sort_values(by='valid_r2_score', ascending=False)"
      ],
      "execution_count": 29,
      "outputs": [
        {
          "output_type": "stream",
          "text": [
            "Found data for 3 models under ampl_output\n"
          ],
          "name": "stdout"
        },
        {
          "output_type": "execute_result",
          "data": {
            "text/html": [
              "<div>\n",
              "<style scoped>\n",
              "    .dataframe tbody tr th:only-of-type {\n",
              "        vertical-align: middle;\n",
              "    }\n",
              "\n",
              "    .dataframe tbody tr th {\n",
              "        vertical-align: top;\n",
              "    }\n",
              "\n",
              "    .dataframe thead th {\n",
              "        text-align: right;\n",
              "    }\n",
              "</style>\n",
              "<table border=\"1\" class=\"dataframe\">\n",
              "  <thead>\n",
              "    <tr style=\"text-align: right;\">\n",
              "      <th></th>\n",
              "      <th>model_uuid</th>\n",
              "      <th>model_type</th>\n",
              "      <th>dataset_key</th>\n",
              "      <th>featurizer</th>\n",
              "      <th>splitter</th>\n",
              "      <th>model_score_type</th>\n",
              "      <th>feature_transform_type</th>\n",
              "      <th>learning_rate</th>\n",
              "      <th>dropouts</th>\n",
              "      <th>layer_sizes</th>\n",
              "      <th>best_epoch</th>\n",
              "      <th>max_epochs</th>\n",
              "      <th>rf_estimators</th>\n",
              "      <th>rf_max_features</th>\n",
              "      <th>rf_max_depth</th>\n",
              "      <th>model_choice_score</th>\n",
              "      <th>train_r2_score</th>\n",
              "      <th>train_rms_score</th>\n",
              "      <th>train_mae_score</th>\n",
              "      <th>train_num_compounds</th>\n",
              "      <th>valid_r2_score</th>\n",
              "      <th>valid_rms_score</th>\n",
              "      <th>valid_mae_score</th>\n",
              "      <th>valid_num_compounds</th>\n",
              "      <th>test_r2_score</th>\n",
              "      <th>test_rms_score</th>\n",
              "      <th>test_mae_score</th>\n",
              "      <th>test_num_compounds</th>\n",
              "    </tr>\n",
              "  </thead>\n",
              "  <tbody>\n",
              "    <tr>\n",
              "      <th>1</th>\n",
              "      <td>be665995-f1a4-4bec-8f9c-704b2e7b3228</td>\n",
              "      <td>NN</td>\n",
              "      <td>curated_combined_df_1.csv</td>\n",
              "      <td>graphconv</td>\n",
              "      <td>scaffold</td>\n",
              "      <td>r2</td>\n",
              "      <td>normalization</td>\n",
              "      <td>0.0005</td>\n",
              "      <td>0.25,0.25,0.25</td>\n",
              "      <td>64,64,128</td>\n",
              "      <td>99</td>\n",
              "      <td>100</td>\n",
              "      <td>NaN</td>\n",
              "      <td>NaN</td>\n",
              "      <td>NaN</td>\n",
              "      <td>0.507958</td>\n",
              "      <td>0.803551</td>\n",
              "      <td>0.533593</td>\n",
              "      <td>0.392290</td>\n",
              "      <td>4380</td>\n",
              "      <td>0.507958</td>\n",
              "      <td>0.839806</td>\n",
              "      <td>0.652683</td>\n",
              "      <td>548</td>\n",
              "      <td>0.259016</td>\n",
              "      <td>0.926407</td>\n",
              "      <td>0.731251</td>\n",
              "      <td>548</td>\n",
              "    </tr>\n",
              "    <tr>\n",
              "      <th>0</th>\n",
              "      <td>91110ae2-0699-4f4b-a39c-432c33593978</td>\n",
              "      <td>NN</td>\n",
              "      <td>curated_combined_df_1.csv</td>\n",
              "      <td>graphconv</td>\n",
              "      <td>scaffold</td>\n",
              "      <td>r2</td>\n",
              "      <td>normalization</td>\n",
              "      <td>0.0005</td>\n",
              "      <td>0.25,0.25,0.25</td>\n",
              "      <td>64,64,128</td>\n",
              "      <td>87</td>\n",
              "      <td>100</td>\n",
              "      <td>NaN</td>\n",
              "      <td>NaN</td>\n",
              "      <td>NaN</td>\n",
              "      <td>0.500097</td>\n",
              "      <td>0.779039</td>\n",
              "      <td>0.565904</td>\n",
              "      <td>0.414930</td>\n",
              "      <td>4380</td>\n",
              "      <td>0.500097</td>\n",
              "      <td>0.846488</td>\n",
              "      <td>0.656654</td>\n",
              "      <td>548</td>\n",
              "      <td>0.301021</td>\n",
              "      <td>0.899766</td>\n",
              "      <td>0.688978</td>\n",
              "      <td>548</td>\n",
              "    </tr>\n",
              "    <tr>\n",
              "      <th>2</th>\n",
              "      <td>39a5d3f7-bcdb-4472-bdb0-d78047c11ae5</td>\n",
              "      <td>NN</td>\n",
              "      <td>curated_combined_df_1.csv</td>\n",
              "      <td>graphconv</td>\n",
              "      <td>scaffold</td>\n",
              "      <td>r2</td>\n",
              "      <td>normalization</td>\n",
              "      <td>0.0005</td>\n",
              "      <td>0.25,0.25,0.25</td>\n",
              "      <td>64,64,128</td>\n",
              "      <td>68</td>\n",
              "      <td>70</td>\n",
              "      <td>NaN</td>\n",
              "      <td>NaN</td>\n",
              "      <td>NaN</td>\n",
              "      <td>0.491148</td>\n",
              "      <td>0.717928</td>\n",
              "      <td>0.639389</td>\n",
              "      <td>0.489607</td>\n",
              "      <td>4380</td>\n",
              "      <td>0.491148</td>\n",
              "      <td>0.854030</td>\n",
              "      <td>0.674916</td>\n",
              "      <td>548</td>\n",
              "      <td>0.328498</td>\n",
              "      <td>0.881904</td>\n",
              "      <td>0.688422</td>\n",
              "      <td>548</td>\n",
              "    </tr>\n",
              "  </tbody>\n",
              "</table>\n",
              "</div>"
            ],
            "text/plain": [
              "                             model_uuid  ... test_num_compounds\n",
              "1  be665995-f1a4-4bec-8f9c-704b2e7b3228  ...                548\n",
              "0  91110ae2-0699-4f4b-a39c-432c33593978  ...                548\n",
              "2  39a5d3f7-bcdb-4472-bdb0-d78047c11ae5  ...                548\n",
              "\n",
              "[3 rows x 28 columns]"
            ]
          },
          "metadata": {
            "tags": []
          },
          "execution_count": 29
        }
      ]
    },
    {
      "cell_type": "code",
      "metadata": {
        "colab": {
          "base_uri": "https://localhost:8080/",
          "height": 186
        },
        "id": "fELk575rrYEq",
        "outputId": "faaa9279-3681-4747-a371-4b8ce0f5b148"
      },
      "source": [
        "# save the best model\n",
        "cmp.copy_best_filesystem_models(pred_type=\"regression\", dest_dir=working_dir, \n",
        "                                result_dir='ampl_output', force_update=False)\n"
      ],
      "execution_count": 30,
      "outputs": [
        {
          "output_type": "stream",
          "text": [
            "Found data for 3 models under ampl_output\n",
            "Copied curated_combined_df_1_model_be665995-f1a4-4bec-8f9c-704b2e7b3228.tar.gz\n"
          ],
          "name": "stdout"
        },
        {
          "output_type": "execute_result",
          "data": {
            "text/html": [
              "<div>\n",
              "<style scoped>\n",
              "    .dataframe tbody tr th:only-of-type {\n",
              "        vertical-align: middle;\n",
              "    }\n",
              "\n",
              "    .dataframe tbody tr th {\n",
              "        vertical-align: top;\n",
              "    }\n",
              "\n",
              "    .dataframe thead th {\n",
              "        text-align: right;\n",
              "    }\n",
              "</style>\n",
              "<table border=\"1\" class=\"dataframe\">\n",
              "  <thead>\n",
              "    <tr style=\"text-align: right;\">\n",
              "      <th></th>\n",
              "      <th>model_uuid</th>\n",
              "      <th>model_type</th>\n",
              "      <th>dataset_key</th>\n",
              "      <th>featurizer</th>\n",
              "      <th>splitter</th>\n",
              "      <th>model_score_type</th>\n",
              "      <th>feature_transform_type</th>\n",
              "      <th>learning_rate</th>\n",
              "      <th>dropouts</th>\n",
              "      <th>layer_sizes</th>\n",
              "      <th>best_epoch</th>\n",
              "      <th>max_epochs</th>\n",
              "      <th>rf_estimators</th>\n",
              "      <th>rf_max_features</th>\n",
              "      <th>rf_max_depth</th>\n",
              "      <th>model_choice_score</th>\n",
              "      <th>train_r2_score</th>\n",
              "      <th>train_rms_score</th>\n",
              "      <th>train_mae_score</th>\n",
              "      <th>train_num_compounds</th>\n",
              "      <th>valid_r2_score</th>\n",
              "      <th>valid_rms_score</th>\n",
              "      <th>valid_mae_score</th>\n",
              "      <th>valid_num_compounds</th>\n",
              "      <th>test_r2_score</th>\n",
              "      <th>test_rms_score</th>\n",
              "      <th>test_mae_score</th>\n",
              "      <th>test_num_compounds</th>\n",
              "    </tr>\n",
              "  </thead>\n",
              "  <tbody>\n",
              "    <tr>\n",
              "      <th>1</th>\n",
              "      <td>be665995-f1a4-4bec-8f9c-704b2e7b3228</td>\n",
              "      <td>NN</td>\n",
              "      <td>curated_combined_df_1.csv</td>\n",
              "      <td>graphconv</td>\n",
              "      <td>scaffold</td>\n",
              "      <td>r2</td>\n",
              "      <td>normalization</td>\n",
              "      <td>0.0005</td>\n",
              "      <td>0.25,0.25,0.25</td>\n",
              "      <td>64,64,128</td>\n",
              "      <td>99</td>\n",
              "      <td>100</td>\n",
              "      <td>NaN</td>\n",
              "      <td>NaN</td>\n",
              "      <td>NaN</td>\n",
              "      <td>0.507958</td>\n",
              "      <td>0.803551</td>\n",
              "      <td>0.533593</td>\n",
              "      <td>0.39229</td>\n",
              "      <td>4380</td>\n",
              "      <td>0.507958</td>\n",
              "      <td>0.839806</td>\n",
              "      <td>0.652683</td>\n",
              "      <td>548</td>\n",
              "      <td>0.259016</td>\n",
              "      <td>0.926407</td>\n",
              "      <td>0.731251</td>\n",
              "      <td>548</td>\n",
              "    </tr>\n",
              "  </tbody>\n",
              "</table>\n",
              "</div>"
            ],
            "text/plain": [
              "                             model_uuid  ... test_num_compounds\n",
              "1  be665995-f1a4-4bec-8f9c-704b2e7b3228  ...                548\n",
              "\n",
              "[1 rows x 28 columns]"
            ]
          },
          "metadata": {
            "tags": []
          },
          "execution_count": 30
        }
      ]
    },
    {
      "cell_type": "code",
      "metadata": {
        "id": "XhoPKp4gv30C"
      },
      "source": [
        ""
      ],
      "execution_count": null,
      "outputs": []
    },
    {
      "cell_type": "code",
      "metadata": {
        "id": "ww6J57BUv34k"
      },
      "source": [
        ""
      ],
      "execution_count": null,
      "outputs": []
    },
    {
      "cell_type": "code",
      "metadata": {
        "id": "08vJe9rwv376"
      },
      "source": [
        ""
      ],
      "execution_count": null,
      "outputs": []
    },
    {
      "cell_type": "markdown",
      "metadata": {
        "id": "AnrFFfTDv87T"
      },
      "source": [
        "# Test??\n",
        "\n",
        "---\n",
        "\n",
        "\n",
        "\n",
        "---\n",
        "\n",
        "\n"
      ]
    },
    {
      "cell_type": "code",
      "metadata": {
        "id": "omDmmu4OAnlW",
        "colab": {
          "base_uri": "https://localhost:8080/"
        },
        "outputId": "554adc5d-72c6-497b-9969-dcf1c83d38cd"
      },
      "source": [
        "! pip install molvs"
      ],
      "execution_count": 32,
      "outputs": [
        {
          "output_type": "stream",
          "text": [
            "Collecting molvs\n",
            "\u001b[?25l  Downloading https://files.pythonhosted.org/packages/08/dc/d948e83b97f2c420cb6c7e2143ae349560d3b5b061945f1b2a4eefb0231c/MolVS-0.1.1.tar.gz (61kB)\n",
            "\r\u001b[K     |█████▎                          | 10kB 18.6MB/s eta 0:00:01\r\u001b[K     |██████████▋                     | 20kB 15.4MB/s eta 0:00:01\r\u001b[K     |███████████████▉                | 30kB 9.3MB/s eta 0:00:01\r\u001b[K     |█████████████████████▏          | 40kB 7.9MB/s eta 0:00:01\r\u001b[K     |██████████████████████████▌     | 51kB 5.4MB/s eta 0:00:01\r\u001b[K     |███████████████████████████████▊| 61kB 5.9MB/s eta 0:00:01\r\u001b[K     |████████████████████████████████| 71kB 6.3MB/s \n",
            "\u001b[?25hRequirement already satisfied: six in /usr/local/lib/python3.7/site-packages (from molvs) (1.12.0)\n",
            "Building wheels for collected packages: molvs\n",
            "  Building wheel for molvs (setup.py) ... \u001b[?25l\u001b[?25hdone\n",
            "  Created wheel for molvs: filename=MolVS-0.1.1-cp37-none-any.whl size=32376 sha256=3c0825751af49e3297a42f5dd7f3d900c83c943fcf8319b1328ac360b6402f18\n",
            "  Stored in directory: /root/.cache/pip/wheels/30/37/a8/8ac8147605c9de6b45ffd66d1cc19761d41467db12b34a0de8\n",
            "Successfully built molvs\n",
            "Installing collected packages: molvs\n",
            "Successfully installed molvs-0.1.1\n"
          ],
          "name": "stdout"
        }
      ]
    },
    {
      "cell_type": "code",
      "metadata": {
        "id": "_XYft1p6AdNV"
      },
      "source": [
        "from atomsci.ddm.pipeline import predict_from_model"
      ],
      "execution_count": 33,
      "outputs": []
    },
    {
      "cell_type": "code",
      "metadata": {
        "id": "-UaX8kqrwCnv"
      },
      "source": [
        "# Test loading model from tarball and running predictions\n",
        "test = predict_from_model.predict_from_model_file(model_path='curated_combined_df_1_model_be665995-f1a4-4bec-8f9c-704b2e7b3228.tar.gz',\n",
        "                            input_df = df,\n",
        "                            id_col='compound_id',\n",
        "                            smiles_col='base_rdkit_smiles',\n",
        "                            response_col='VALUE_NUM_mean',\n",
        "                            is_featurized=False,\n",
        "                            dont_standardize=True)"
      ],
      "execution_count": null,
      "outputs": []
    },
    {
      "cell_type": "code",
      "metadata": {
        "id": "LjLfKFowDG2_"
      },
      "source": [
        ""
      ],
      "execution_count": null,
      "outputs": []
    },
    {
      "cell_type": "code",
      "metadata": {
        "colab": {
          "base_uri": "https://localhost:8080/"
        },
        "id": "atU7TbB3wMJj",
        "outputId": "d5708195-948f-4226-9483-a6a085109a21"
      },
      "source": [
        "from sklearn.metrics import r2_score, mean_squared_error\n",
        "print(r2_score(test.VALUE_NUM_mean_actual, test.VALUE_NUM_mean_pred))\n",
        "print(mean_squared_error(test.VALUE_NUM_mean_actual, test.VALUE_NUM_mean_pred))"
      ],
      "execution_count": 35,
      "outputs": [
        {
          "output_type": "stream",
          "text": [
            "0.7203544085833231\n",
            "0.4037001181496597\n"
          ],
          "name": "stdout"
        }
      ]
    }
  ]
}